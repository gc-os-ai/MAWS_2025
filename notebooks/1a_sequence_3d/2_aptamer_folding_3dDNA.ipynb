{
 "cells": [
  {
   "cell_type": "markdown",
   "id": "dda40d7e",
   "metadata": {},
   "source": [
    "# Aptamer Folding - 3dDNA & ViennaRNA\n",
    "- Use ViennaRNA to 2d fold the target sequence\n",
    "- Use 3dDNA to fold the sequence in tertiary space\n",
    "\n",
    "- Software Requirement:\n",
    "  - viennaRNA\n",
    "  - 3dDNA\n"
   ]
  },
  {
   "cell_type": "markdown",
   "id": "2a2e4967",
   "metadata": {},
   "source": [
    "### REMEMBER: change the Jupyter kernel to **`Python (AptaLoop)`**. See our README file for detailed information."
   ]
  },
  {
   "cell_type": "code",
   "execution_count": null,
   "id": "8eab8677",
   "metadata": {},
   "outputs": [],
   "source": [
    "import os, subprocess, requests, RNA\n",
    "\n",
    "data_dir = \"../../data\"\n",
    "os.chdir(os.getcwd())"
   ]
  },
  {
   "cell_type": "markdown",
   "id": "9b10b35a",
   "metadata": {},
   "source": [
    "## 1. ViennaRNA"
   ]
  },
  {
   "cell_type": "code",
   "execution_count": null,
   "id": "eb029402",
   "metadata": {},
   "outputs": [],
   "source": [
    "# specify the path to your FASTA file\n",
    "fasta_file = \"sequence.fasta\"\n",
    "output_fasta_file = \"sequence_fold.fasta\"\n",
    "\n",
    "def read_fasta(fasta_file):\n",
    "    \"\"\"\n",
    "    Parse the fasta file as user entered.\n",
    "\n",
    "    Parameters:\n",
    "        fasta_file (str): the sequence file directory\n",
    "    Returns: \n",
    "        str: the sequence string\n",
    "    \"\"\"\n",
    "    try:\n",
    "        with open(fasta_file, 'r') as file:\n",
    "            sequences = []\n",
    "            sequence = \"\"\n",
    "            for line in file:\n",
    "                if line.startswith('>'):\n",
    "                    if sequence:\n",
    "                        sequences.append(sequence)\n",
    "                    sequence = \"\"\n",
    "                else:\n",
    "                    sequence += line.strip()\n",
    "            if sequence:\n",
    "                sequences.append(sequence)\n",
    "            if sequences:\n",
    "                return sequences[0]  # Return the first sequence in the file\n",
    "            else:\n",
    "                raise ValueError(\"No sequences found in the FASTA file\")\n",
    "    except FileNotFoundError:\n",
    "        raise FileNotFoundError(\"The specified FASTA file was not found\")\n",
    "    except Exception as e:\n",
    "        raise Exception(f\"An error occurred: {e}\")\n",
    "\n",
    "def get_vienna_2d(sequence):\n",
    "    \"\"\"\n",
    "    Use viennaRNA to get 2d conformation of the user input sequence\n",
    "\n",
    "    Parameters:\n",
    "        sequence (str): the user input sequence\n",
    "    Returns: \n",
    "        str: the 2d conformation\n",
    "    \"\"\"\n",
    "    fc = RNA.fold_compound(sequence)\n",
    "    (ss, mfe) = fc.mfe()\n",
    "    return ss\n",
    "\n",
    "def write_to_fasta(output_fasta_file, vienna_2d):\n",
    "    \"\"\"\n",
    "    Write the fasta file with original sequence and 2D conformation.\n",
    "\n",
    "    Parameters:\n",
    "        output_fasta_file (str): the sequence file directory\n",
    "        vienna_2d (str): 2D sequence conformation in string\n",
    "    Returns: \n",
    "        str: the sequence string\n",
    "    \"\"\"\n",
    "    try:\n",
    "        with open(output_fasta_file, 'w') as file:\n",
    "            file.write(\">Predicted_2D_Structure\\n\")\n",
    "            file.write(sequence + \"\\n\")\n",
    "            file.write(vienna_2d + \"\\n\")\n",
    "    except Exception as e:\n",
    "        raise Exception(f\"An error occurred while writing to the output file: {e}\")\n",
    "\n",
    "try:\n",
    "    sequence = read_fasta(fasta_file)\n",
    "    vienna_2d = get_vienna_2d(sequence)\n",
    "    print(f\"Predicted 2D structure: {vienna_2d}\")\n",
    "    write_to_fasta(output_fasta_file, vienna_2d)\n",
    "    print(f\"The 2D structure has been written to {output_fasta_file}\")\n",
    "except Exception as e:\n",
    "    print(e)\n"
   ]
  },
  {
   "cell_type": "markdown",
   "id": "07e620bf",
   "metadata": {},
   "source": [
    "## 2. 3dRNA/DNA from Xiao Lab\n",
    "\n",
    "We use the ViennaRNA result for 3D-DNA server, which we will get several 3D folding conformations in PDB formats. **The current API is not open**, so we need some workaround for this to work. \n",
    "\n",
    "In order to get the 3D structure prediction for your aptamer, you need to click [this link](http://biophy.hust.edu.cn/new/3dRNA/create) and submit a job under the **New Task** tab. There, you just need to select the options you want, provide a task name, paste the aptamer sequence, provide the 2D structure prediction, and click \"Submit\".\n",
    "\n",
    "You can check the status of your job under the **Task Index** tab (you might need to refresh the page to see it). Once it is finished (you will receive an email), you can check the result under the **Result** tab and download them.\n"
   ]
  }
 ],
 "metadata": {
  "kernelspec": {
   "display_name": "Python 3 (ipykernel)",
   "language": "python",
   "name": "python3"
  },
  "language_info": {
   "codemirror_mode": {
    "name": "ipython",
    "version": 3
   },
   "file_extension": ".py",
   "mimetype": "text/x-python",
   "name": "python",
   "nbconvert_exporter": "python",
   "pygments_lexer": "ipython3",
   "version": "3.9.12"
  }
 },
 "nbformat": 4,
 "nbformat_minor": 5
}
