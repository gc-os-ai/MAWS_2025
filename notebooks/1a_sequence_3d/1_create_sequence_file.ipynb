{
 "cells": [
  {
   "cell_type": "markdown",
   "id": "d5789ccd",
   "metadata": {},
   "source": [
    "# Create Sequence File\n",
    "- Input a DNA or RNA sequence, and this notebook will create a PDB file using tleap\n",
    "- Software Requirement: \n",
    "  - tleap from Ambertools\n",
    "  "
   ]
  },
  {
   "cell_type": "markdown",
   "id": "c31b8826",
   "metadata": {},
   "source": [
    "### REMEMBER: change the Jupyter kernel to **`Python (AptaLoop)`**. See our README file for detailed information."
   ]
  },
  {
   "cell_type": "code",
   "execution_count": null,
   "id": "c34f1eee",
   "metadata": {},
   "outputs": [],
   "source": [
    "import os, subprocess\n",
    "\n",
    "data_dir = \"../../data\"\n",
    "os.chdir(os.getcwd())"
   ]
  },
  {
   "cell_type": "markdown",
   "id": "aeb6179d",
   "metadata": {},
   "source": [
    "## 1. Create fasta Sequence\n",
    "Ask user for an sequence and make a fasta sequence file"
   ]
  },
  {
   "cell_type": "code",
   "execution_count": null,
   "id": "cc3edbc5",
   "metadata": {},
   "outputs": [],
   "source": [
    "def is_valid_DNA(seq):\n",
    "    \"\"\"\n",
    "     Check if the input string is a valid DNA sequence.\n",
    "\n",
    "    Parameters:\n",
    "        seq (str): A sequence string\n",
    "    Returns: \n",
    "        bool: whether the sequence is valid DNA or not\n",
    "    \"\"\"\n",
    "    return all(nucleotide in \"ATCG\" for nucleotide in seq)\n",
    "\n",
    "def is_valid_RNA(seq):\n",
    "    \"\"\"\n",
    "     Check if the input string is a valid RNA sequence.\n",
    "\n",
    "    Parameters:\n",
    "        seq (str): A sequence string\n",
    "    Returns: \n",
    "        bool: whether the sequence is valid RNA or not\n",
    "    \"\"\"\n",
    "    return all(nucleotide in \"AUCG\" for nucleotide in seq)\n",
    "\n",
    "while True:\n",
    "    sequence = input(\"Enter the DNA/RNA sequence: \")\n",
    "    \n",
    "    if is_valid_DNA(sequence):\n",
    "        molecule_type = \"DNA\"\n",
    "        print(f\"You've entered a valid DNA sequence: {sequence}\")\n",
    "        break\n",
    "    elif is_valid_RNA(sequence):\n",
    "        molecule_type = \"RNA\"\n",
    "        print(f\"You've entered a valid RNA sequence: {sequence}\")\n",
    "        break\n",
    "    else:\n",
    "        print(\"The sequence is neither valid DNA nor RNA. Please try again.\")"
   ]
  },
  {
   "cell_type": "code",
   "execution_count": null,
   "id": "96916147",
   "metadata": {},
   "outputs": [],
   "source": [
    "def write_fasta(seq, filename):\n",
    "    \"\"\"\n",
    "    Write the sequence into a fasta file under given name.\n",
    "\n",
    "    Parameters:\n",
    "        seq (str): A sequence string\n",
    "        filename(str): A file name\n",
    "    \"\"\"\n",
    "    with open(filename, 'w') as f:\n",
    "        f.write('>Aptamer_Sequence\\n')\n",
    "        f.write(seq + '\\n')\n",
    "        print(f\"The sequence is output into sequence.fasta file\")\n",
    "\n",
    "# Replace 'output.fasta' with your preferred output filename\n",
    "write_fasta(sequence, 'sequence.fasta')"
   ]
  },
  {
   "cell_type": "markdown",
   "id": "8f9b1604",
   "metadata": {},
   "source": [
    "## 2. Create PDB sequence\n",
    "This part of notebook aims to make a PDB sequence file"
   ]
  },
  {
   "cell_type": "code",
   "execution_count": null,
   "id": "127fe22a",
   "metadata": {},
   "outputs": [],
   "source": [
    "def modify_sequence_for_OL15(seq, mol_type):\n",
    "    \"\"\"\n",
    "    Make the sequence match OL15 based on sequence type\n",
    "\n",
    "    Parameters:\n",
    "        seq (str): A sequence string\n",
    "        mol_type (str): either 'DNA' or 'RNA'\n",
    "    Returns: \n",
    "        str: modified sequence\n",
    "    \"\"\"\n",
    "    if mol_type == \"DNA\":\n",
    "        return seq.replace(\"A\", \"DA \").replace(\"T\", \"DT \").replace(\"C\", \"DC \").replace(\"G\", \"DG \")\n",
    "    elif mol_type == \"RNA\":\n",
    "        return seq.replace(\"A\", \"RA \").replace(\"U\", \"RU \").replace(\"C\", \"RC \").replace(\"G\", \"RG \")\n",
    "\n",
    "modified_sequence = modify_sequence_for_OL15(sequence, molecule_type)\n",
    "\n",
    "sequence_file = \"create_sequence.leap\"\n",
    "with open(sequence_file, \"w\") as file:\n",
    "    if molecule_type == \"DNA\":\n",
    "        file.write(\"source leaprc.DNA.OL15\\n\")  # For DNA with OL15 parameters\n",
    "    else:\n",
    "        file.write(\"source leaprc.RNA.OL15\\n\")  # For RNA with OL15 parameters\n",
    "    \n",
    "    file.write(f\"seq = sequence {{{modified_sequence}}}\\n\")\n",
    "    file.write(\"savepdb seq sequence.pdb\\n\")\n",
    "    file.write(\"quit\\n\")\n",
    "\n",
    "print(\"The LEAP setup file for aptamer is created\")"
   ]
  },
  {
   "cell_type": "code",
   "execution_count": null,
   "id": "ce57bb5d",
   "metadata": {},
   "outputs": [],
   "source": [
    "subprocess.run([\"tleap\", \"-f\", \"create_sequence.leap\"])"
   ]
  }
 ],
 "metadata": {
  "kernelspec": {
   "display_name": "Python 3 (ipykernel)",
   "language": "python",
   "name": "python3"
  },
  "language_info": {
   "codemirror_mode": {
    "name": "ipython",
    "version": 3
   },
   "file_extension": ".py",
   "mimetype": "text/x-python",
   "name": "python",
   "nbconvert_exporter": "python",
   "pygments_lexer": "ipython3",
   "version": "3.9.12"
  }
 },
 "nbformat": 4,
 "nbformat_minor": 5
}
