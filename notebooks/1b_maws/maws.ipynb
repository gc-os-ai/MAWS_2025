{
 "cells": [
  {
   "cell_type": "markdown",
   "id": "377b9c62",
   "metadata": {},
   "source": [
    "# Making Aptamers Without Selex (MAWS)"
   ]
  },
  {
   "cell_type": "markdown",
   "id": "44c81784",
   "metadata": {},
   "source": [
    "## Description\n",
    "\n",
    "Welcome to the new version of MAWS! This notebook will guide you through the steps to run MAWS successfully. Please, be aware that the 3d structure prediction of the MAWS generated aptamer is not accurate, so we suggest to use our instructions on notebook `2_aptamer_folding_3dDNA` to generate a better one.\n",
    "\n",
    "### INPUT: What do you need to run this notebook?\n",
    "\n",
    "You only need a **pdb file of your target molecule**, and it can be a protein, small molecule or lipid.\n",
    "\n",
    "### OUTPUT: What will you get from this notebook?\n",
    "\n",
    "You will get the optimal predicted sequence of your aptamer (DNA or RNA) and a **pdb file containing both your target molecule and the aptamer**.\n",
    "\n",
    "Credits to:\n",
    "- The creators of MAWS: [Heidelberg iGEM team (2015)](https://2015.igem.org/Team:Heidelberg/software/maws)\n",
    "- The first improvement of the software: [Heidelberg iGEM team (2017)](https://2017.igem.org/Team:Heidelberg/Software/MAWS)\n",
    "- The second improvement of the software: [NU Kazakhstan iGEM team (2022)](https://2022.igem.wiki/nu-kazakhstan/software)"
   ]
  },
  {
   "cell_type": "markdown",
   "id": "661130d7",
   "metadata": {},
   "source": [
    "### REMEMBER: change the Jupyter kernel to **`Python (AptaLoop)`**. See our README file for detailed information."
   ]
  },
  {
   "cell_type": "markdown",
   "id": "a52fe16a",
   "metadata": {},
   "source": [
    "## Define MAWS parameters\n",
    "\n",
    "You can edit the following cell and change the parameters to run the MAWS program"
   ]
  },
  {
   "cell_type": "code",
   "execution_count": null,
   "id": "c96bb1f8",
   "metadata": {},
   "outputs": [],
   "source": [
    "# Job name\n",
    "job_name = \"maws_aptamer\"\n",
    "\n",
    "# Number of nucleotides in the aptamer (default: 15)\n",
    "nucleotides = 30\n",
    "\n",
    "# Path to your pdb file\n",
    "my_path = \"../../heidelberg_maws/pfoa.pdb\"\n",
    "\n",
    "# Aptamer type (DNA or RNA)\n",
    "apt_type = \"DNA\"\n",
    "\n",
    "# Molecule type (protein, organic or lipid)\n",
    "mol_type = \"organic\"\n",
    "\n",
    "# Name of your conda environment\n",
    "env_name = \"AptaLoop\"\n",
    "\n",
    "# Beta (default: 0.01)\n",
    "beta = 0.01\n",
    "\n",
    "# First chunk size (default: 5000)\n",
    "chunk_1 = 5000\n",
    "\n",
    "# Second chunk size (default: 5000)\n",
    "chunk_2 = 5000"
   ]
  },
  {
   "cell_type": "markdown",
   "id": "07168ac3",
   "metadata": {},
   "source": [
    "The following cell will run the MAWS program."
   ]
  },
  {
   "cell_type": "code",
   "execution_count": null,
   "id": "5d4cd49f",
   "metadata": {},
   "outputs": [],
   "source": [
    "%%bash -s \"$job_name\" \"$nucleotides\" \"$my_path\" \"$apt_type\" \"$mol_type\" \"$env_name\" \"$beta\" \"$chunk_1\" \"$chunk_2\"\n",
    "NBPATH=$(pwd)\n",
    "python $NBPATH/../../heidelberg_maws/MAWS2023.py -n $1 -nt $2 -p $3 -ta $4 -tm $5 -cenv $6 -b $7 -c1 $8 -c2 $9"
   ]
  }
 ],
 "metadata": {
  "kernelspec": {
   "display_name": "Python (maws_env)",
   "language": "python",
   "name": "maws_env"
  },
  "language_info": {
   "codemirror_mode": {
    "name": "ipython",
    "version": 3
   },
   "file_extension": ".py",
   "mimetype": "text/x-python",
   "name": "python",
   "nbconvert_exporter": "python",
   "pygments_lexer": "ipython3",
   "version": "3.9.17"
  }
 },
 "nbformat": 4,
 "nbformat_minor": 5
}
