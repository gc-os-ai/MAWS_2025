{
 "cells": [
  {
   "cell_type": "code",
   "execution_count": null,
   "id": "31132481-c74f-4f0d-ac0a-975ff949d412",
   "metadata": {},
   "outputs": [
    {
     "ename": "ModuleNotFoundError",
     "evalue": "No module named 'heidelberg_maws'",
     "output_type": "error",
     "traceback": [
      "\u001b[0;31m---------------------------------------------------------------------------\u001b[0m",
      "\u001b[0;31mModuleNotFoundError\u001b[0m                       Traceback (most recent call last)",
      "Cell \u001b[0;32mIn[1], line 1\u001b[0m\n\u001b[0;32m----> 1\u001b[0m \u001b[38;5;28;01mfrom\u001b[39;00m\u001b[38;5;250m \u001b[39m\u001b[38;5;21;01mheidelberg_maws\u001b[39;00m\u001b[38;5;21;01m.\u001b[39;00m\u001b[38;5;21;01mdna_structure\u001b[39;00m\u001b[38;5;250m \u001b[39m\u001b[38;5;28;01mimport\u001b[39;00m dna_structure\n\u001b[1;32m      2\u001b[0m \u001b[38;5;28;01mfrom\u001b[39;00m\u001b[38;5;250m \u001b[39m\u001b[38;5;21;01mheidelberg_maws\u001b[39;00m\u001b[38;5;21;01m.\u001b[39;00m\u001b[38;5;21;01mrna_structure\u001b[39;00m\u001b[38;5;250m \u001b[39m\u001b[38;5;28;01mimport\u001b[39;00m rna_structure\n\u001b[1;32m      3\u001b[0m dna  \u001b[38;5;241m=\u001b[39m dna_structure()\n",
      "\u001b[0;31mModuleNotFoundError\u001b[0m: No module named 'heidelberg_maws'"
     ]
    }
   ],
   "source": [
    "from maws.dna_structure import load_dna_structure\n",
    "from maws.rna_structure import load_rna_structure\n",
    "\n",
    "dna = load_dna_structure()\n",
    "rna = load_rna_structure()"
   ]
  },
  {
   "cell_type": "markdown",
   "id": "40eae6b2-d82c-4b71-a343-e9e276610919",
   "metadata": {},
   "source": [
    "# 1) What `dna_structure()` passes in\n",
    "\n",
    "`DNA.py` defines six tables and then calls:\n",
    "\n",
    "```python\n",
    "Structure.Structure(\n",
    "    RESIDUE_NAMES,          # Sequence[str]\n",
    "    RESIDUE_LENGTH,         # Sequence[int]\n",
    "    rotating_elements=ROTATIONS,     # Sequence[(name, start, bond, end_or_None)]\n",
    "    backbone_elements=BACKBONE,      # Sequence[(name, start, middle_pre, bond, middle_post, end)]\n",
    "    connect=CONNECT,                 # Per-residue [[append_first, append_last],[prepend_last, prepend_first], append_len, prepend_len]\n",
    "    residue_path=residue_path,       # None (so no LEaP lines)\n",
    "    alias=ALIASES                    # [name, alone, start, middle, end]\n",
    ")\n",
    "```\n",
    "\n",
    "Because we called `dna_structure()` with no argument, `residue_path=None`.\n"
   ]
  },
  {
   "cell_type": "code",
   "execution_count": 2,
   "id": "3031a2fa-8dba-4c2f-8a69-60d7591dfb15",
   "metadata": {},
   "outputs": [
    {
     "name": "stdout",
     "output_type": "stream",
     "text": [
      "{'residue_names': ['DGN', 'DAN', 'DTN', 'DCN', 'DG', 'DA', 'DT', 'DC', 'DG5', 'DA5', 'DT5', 'DC5', 'DG3', 'DA3', 'DT3',\n",
      "                   'DC3'],\n",
      " 'residue_path': None,\n",
      " 'init_string': '',\n",
      " 'residue_length': {'DGN': 32,\n",
      "                    'DAN': 31,\n",
      "                    'DTN': 31,\n",
      "                    'DCN': 29,\n",
      "                    'DG': 33,\n",
      "                    'DA': 32,\n",
      "                    'DT': 32,\n",
      "                    'DC': 30,\n",
      "                    'DG5': 31,\n",
      "                    'DA5': 30,\n",
      "                    'DT5': 30,\n",
      "                    'DC5': 28,\n",
      "                    'DG3': 34,\n",
      "                    'DA3': 33,\n",
      "                    'DT3': 33,\n",
      "                    'DC3': 31},\n",
      " 'connect': {'DGN': [[0, -1], [-2, 0], 1.6, 1.6],\n",
      "             'DAN': [[0, -1], [-2, 0], 1.6, 1.6],\n",
      "             'DTN': [[0, -1], [-2, 0], 1.6, 1.6],\n",
      "             'DCN': [[0, -1], [-2, 0], 1.6, 1.6],\n",
      "             'DG': [[0, -1], [-2, 0], 1.6, 1.6],\n",
      "             'DA': [[0, -1], [-2, 0], 1.6, 1.6],\n",
      "             'DT': [[0, -1], [-2, 0], 1.6, 1.6],\n",
      "             'DC': [[0, -1], [-2, 0], 1.6, 1.6],\n",
      "             'DG5': [[0, -1], [-2, 0], 1.6, 1.6],\n",
      "             'DA5': [[0, -1], [-2, 0], 1.6, 1.6],\n",
      "             'DT5': [[0, -1], [-2, 0], 1.6, 1.6],\n",
      "             'DC5': [[0, -1], [-2, 0], 1.6, 1.6],\n",
      "             'DG3': [[0, -1], [-2, 0], 1.6, 1.6],\n",
      "             'DA3': [[0, -1], [-2, 0], 1.6, 1.6],\n",
      "             'DT3': [[0, -1], [-2, 0], 1.6, 1.6],\n",
      "             'DC3': [[0, -1], [-2, 0], 1.6, 1.6]},\n",
      " 'alias': {'DGN': ['DGN', 'DG5', 'DG', 'DG3'],\n",
      "           'DAN': ['DAN', 'DA5', 'DA', 'DA3'],\n",
      "           'DTN': ['DTN', 'DT5', 'DT', 'DT3'],\n",
      "           'DCN': ['DCN', 'DC5', 'DC', 'DC3'],\n",
      "           'DG': ['DG', 'DG', 'DG', 'DG'],\n",
      "           'DA': ['DA', 'DA', 'DA', 'DA'],\n",
      "           'DT': ['DT', 'DT', 'DT', 'DT'],\n",
      "           'DC': ['DC', 'DC', 'DC', 'DC'],\n",
      "           'DG5': ['DG5', 'DG5', 'DG', 'DG'],\n",
      "           'DA5': ['DA5', 'DA5', 'DA', 'DA'],\n",
      "           'DT5': ['DT5', 'DT5', 'DT', 'DT'],\n",
      "           'DC5': ['DC5', 'DC5', 'DC', 'DC'],\n",
      "           'DG3': ['DG3', 'DG', 'DG', 'DG3'],\n",
      "           'DA3': ['DA3', 'DA', 'DA', 'DA3'],\n",
      "           'DT3': ['DT3', 'DT', 'DT', 'DT3'],\n",
      "           'DC3': ['DC3', 'DC', 'DC', 'DC3'],\n",
      "           'A': ['DAN', 'DA5', 'DA', 'DA3'],\n",
      "           'C': ['DCN', 'DC5', 'DC', 'DC3'],\n",
      "           'G': ['DGN', 'DG5', 'DG', 'DG3'],\n",
      "           'T': ['DTN', 'DT5', 'DT', 'DT3']},\n",
      " 'rotating_elements': {'DGN': [[0, 1, None], [1, 2, None], [8, 10, -7], [-4, -2, None]],\n",
      "                       'DAN': [[0, 1, None], [1, 2, None], [8, 10, -7], [-4, -2, None]],\n",
      "                       'DTN': [[0, 1, None], [1, 2, None], [8, 10, -7], [-4, -2, None]],\n",
      "                       'DCN': [[0, 1, None], [1, 2, None], [8, 10, -7], [-4, -2, None]],\n",
      "                       'DG': [[0, 3, None], [3, 4, None], [10, 12, -6], [-6, -1, None]],\n",
      "                       'DA': [[0, 3, None], [3, 4, None], [10, 12, -6], [-6, -1, None]],\n",
      "                       'DT': [[0, 3, None], [3, 4, None], [10, 12, -6], [-6, -1, None]],\n",
      "                       'DC': [[0, 3, None], [3, 4, None], [10, 12, -6], [-6, -1, None]],\n",
      "                       'DG5': [[0, 1, None], [1, 2, None], [8, 10, -6], [-6, -1, None]],\n",
      "                       'DA5': [[0, 1, None], [1, 2, None], [8, 10, -6], [-6, -1, None]],\n",
      "                       'DT5': [[0, 1, None], [1, 2, None], [8, 10, -6], [-6, -1, None]],\n",
      "                       'DC5': [[0, 1, None], [1, 2, None], [8, 10, -6], [-6, -1, None]],\n",
      "                       'DG3': [[0, 3, None], [3, 4, None], [10, 12, -7], [-4, -2, None]],\n",
      "                       'DA3': [[0, 3, None], [3, 4, None], [10, 12, -7], [-4, -2, None]],\n",
      "                       'DT3': [[0, 3, None], [3, 4, None], [10, 12, -7], [-4, -2, None]],\n",
      "                       'DC3': [[0, 3, None], [3, 4, None], [10, 12, -7], [-4, -2, None]]},\n",
      " 'backbone_elements': {'DGN': [[0, 8, 10], [25, 31]],\n",
      "                       'DAN': [[0, 8, 10], [24, 30]],\n",
      "                       'DTN': [[0, 8, 10], [24, 30]],\n",
      "                       'DCN': [[0, 8, 10], [22, 28]],\n",
      "                       'DG': [[0, 10, 12], [27, 32]],\n",
      "                       'DA': [[0, 10, 12], [26, 31]],\n",
      "                       'DT': [[0, 10, 12], [26, 31]],\n",
      "                       'DC': [[0, 10, 12], [24, 29]],\n",
      "                       'DG5': [[0, 8, 10], [25, 30]],\n",
      "                       'DA5': [[0, 8, 10], [24, 29]],\n",
      "                       'DT5': [[0, 8, 10], [24, 29]],\n",
      "                       'DC5': [[0, 8, 10], [22, 27]],\n",
      "                       'DG3': [[0, 10, 12], [27, 33]],\n",
      "                       'DA3': [[0, 10, 12], [26, 32]],\n",
      "                       'DT3': [[0, 10, 12], [26, 32]],\n",
      "                       'DC3': [[0, 10, 12], [24, 30]]}}\n"
     ]
    }
   ],
   "source": [
    "from pprint import pprint\n",
    "\n",
    "pprint(vars(dna), width=120, compact=True, sort_dicts=False)"
   ]
  },
  {
   "cell_type": "markdown",
   "id": "110ea562-4e26-4511-aaf0-84118e21f330",
   "metadata": {},
   "source": [
    "## 2) How `Structure.__init__` builds the object\n",
    "\n",
    "Inside the constructor, those inputs are transformed as follows.\n",
    "\n",
    "## a) Names and LEaP init\n",
    "\n",
    "* `self.residue_names = list(RESIDUE_NAMES)`\n",
    "* `self.residue_path = None` (because we didn’t pass a path)\n",
    "* `self.init_string = \"\"`\n",
    "  Since `residue_path is None`, it doesn’t append any `loadoff`/`loadamberparams` lines.\n",
    "\n",
    "Result you see:\n",
    "\n",
    "```python\n",
    "'residue_names': ['DGN', 'DAN', ..., 'DC3'],\n",
    "'residue_path': None,\n",
    "'init_string': '',\n",
    "```\n",
    "\n",
    "## b) Lengths\n",
    "\n",
    "* `self.residue_length` becomes a dict mapping each name to its atom count, taken from `RESIDUE_LENGTH`, aligned by index.\n",
    "\n",
    "Result (sample):\n",
    "\n",
    "```python\n",
    "'residue_length': {'DGN': 32, 'DAN': 31, ... 'DC3': 31}\n",
    "```\n",
    "\n",
    "## c) Connectivity\n",
    "\n",
    "* If `connect` is provided, it copies each entry by residue index into a dict:\n",
    "\n",
    "  ```python\n",
    "  self.connect[res] = [[0,-1], [-2,0], 1.6, 1.6]\n",
    "  ```\n",
    "\n",
    "  These are polymerization rules:\n",
    "\n",
    "  * “append” bond uses new residue atom index `0` to old tail atom index `-1`\n",
    "  * “prepend” bond uses new residue atom `-2` to old head atom `0`\n",
    "  * both bond lengths default to `1.6 Å`\n",
    "\n",
    "Result (same for every residue here):\n",
    "\n",
    "```python\n",
    "'connect': {'DGN': [[0, -1], [-2, 0], 1.6, 1.6], ...}\n",
    "```\n",
    "\n",
    "## d) Alias mapping\n",
    "\n",
    "* Initializes identity mapping `[alone, start, middle, end] = [name]*4`\n",
    "* Then overwrites with  `ALIASES` rows of the form:\n",
    "  `['A', 'DAN', 'DA5', 'DA', 'DA3']` etc.\n",
    "* Stored internally **without** the first column (key), so:\n",
    "\n",
    "  ```python\n",
    "  self.alias['A'] = ['DAN', 'DA5', 'DA', 'DA3']\n",
    "  ```\n",
    "\n",
    "Result (sample):\n",
    "\n",
    "```python\n",
    "'alias': {\n",
    "  'A': ['DAN','DA5','DA','DA3'],\n",
    "  'C': ['DCN','DC5','DC','DC3'],\n",
    "  'G': ['DGN','DG5','DG','DG3'],\n",
    "  'T': ['DTN','DT5','DT','DT3'],\n",
    "  # plus entries for the full deoxy names themselves (DA, DG, DC, etc.)\n",
    "}\n",
    "```\n",
    "\n",
    "## e) Rotations\n",
    "\n",
    "* Starts each residue with a sentinel list `[None]` meaning “no rotations yet”\n",
    "* For each `(residue, start, bond, end_or_None)` in `ROTATIONS` it appends `[start, bond, end_or_None]`\n",
    "* **Negative indices are kept** here; normalization happens later (the rotation caller will use the residue length to resolve negatives).\n",
    "\n",
    "Result (sample):\n",
    "\n",
    "```python\n",
    "'rotating_elements': {\n",
    "  'DG': [[0,3,None], [3,4,None], [10,12,-6], [-6,-1,None]],\n",
    "  ...\n",
    "}\n",
    "```\n",
    "\n",
    "Interpretation: each triple `[start, bond, end]` describes a subchain you’re allowed to rotate around the “bond” atom index (upstream code decides exact semantics), spanning from `start` up to `end` (or to the end of residue if `end is None`). Negative indices mean “count from the end” (Python-style).\n",
    "\n",
    "## f) Backbone elements\n",
    "\n",
    "* For each backbone tuple `(residue, start, middle_pre, bond, middle_post, end)`, it **normalizes negatives to positive indices** using the residue’s atom count, then stores:\n",
    "\n",
    "  ```python\n",
    "  self.backbone_elements[residue] = [[start, middle_pre, bond], [middle_post, end]]\n",
    "  ```\n",
    "\n",
    "  In DNA table, these are already non-negative, so the stored values match the input.\n",
    "\n",
    "Result (sample):\n",
    "\n",
    "```python\n",
    "'backbone_elements': {\n",
    "  'DG': [[0,10,12], [27,32]],\n",
    "  ...\n",
    "}\n",
    "```\n",
    "\n",
    "Interpretation: that’s a compact way to encode the 5′→3′ backbone anchor atoms for each residue: left triplet `[start, middle_pre, bond]` and right pair `[middle_post, end]`.\n",
    "\n",
    "---"
   ]
  },
  {
   "cell_type": "markdown",
   "id": "28942571-9c9d-4bc0-bc27-21f51f37ad68",
   "metadata": {},
   "source": [
    "### A) Sequence building via aliases\n",
    "\n",
    "Goal: turn an abstract sequence “A C G” into LEaP-ready residue names with correct 5′/3′ end forms.\n",
    "\n",
    "Rules in `translate()`:\n",
    "\n",
    "* If there’s one token: use `alias[name][0]` → “alone”.\n",
    "* If there are many:\n",
    "\n",
    "  * first uses `alias[first][1]` → “start”\n",
    "  * middle tokens use `alias[token][2]` → “middle”\n",
    "  * last uses `alias[last][3]` → “end”\n",
    "\n",
    "Example:\n",
    "\n",
    "```python\n",
    "dna.translate(\"A C G\")\n",
    "# alias['A'] -> ['DAN','DA5','DA','DA3']   → start=\"DA5\"\n",
    "# alias['C'] -> ['DCN','DC5','DC','DC3']  → middle=\"DC\"\n",
    "# alias['G'] -> ['DGN','DG5','DG','DG3']  → end=\"DG3\"\n",
    "# RESULT: \"DA5 DC DG3\"\n",
    "```\n",
    "\n",
    "So the translated string is exactly what a LEaP script expects for terminals and internal residues."
   ]
  },
  {
   "cell_type": "code",
   "execution_count": 5,
   "id": "1848e4e0-7dea-45ef-bd1f-b2ac53a06e3e",
   "metadata": {},
   "outputs": [
    {
     "data": {
      "text/plain": [
       "'DA5 DC DG3'"
      ]
     },
     "execution_count": 5,
     "metadata": {},
     "output_type": "execute_result"
    }
   ],
   "source": [
    "# 1) Human-friendly aliasing (you already have this via translate)\n",
    "dna.translate(\"A C G\")  # -> \"DA5 DC DG3\""
   ]
  },
  {
   "cell_type": "code",
   "execution_count": 6,
   "id": "7aba7d19-44d2-4b19-b1ad-f9370bbdbb4d",
   "metadata": {},
   "outputs": [
    {
     "data": {
      "text/plain": [
       "32"
      ]
     },
     "execution_count": 6,
     "metadata": {},
     "output_type": "execute_result"
    }
   ],
   "source": [
    "# 2) Make indices obvious\n",
    "dna.resolve_index(\"DG\", -1)  # -> 32  (DG length is 33)"
   ]
  },
  {
   "cell_type": "markdown",
   "id": "10250d5f-8453-4222-be8b-155b4628d794",
   "metadata": {},
   "source": [
    "### B) Polymerization (how residues “glue”)\n",
    "\n",
    "Use `connect[residue]`:\n",
    "\n",
    "```\n",
    "[[append_first, append_last], [prepend_last, prepend_first], append_len, prepend_len]\n",
    "```\n",
    "\n",
    "* To **append** a new residue Y to the right end (tail) of an existing chain X:\n",
    "\n",
    "  * Bond new Y’s atom `append_first` (typically 0) to the **last atom** of X’s last residue (`append_last = -1`)\n",
    "  * Desired bond length `append_len` (1.6 Å)\n",
    "\n",
    "* To **prepend** a residue Y to the left end (head) of an existing chain X:\n",
    "\n",
    "  * Bond new Y’s atom `prepend_last` (typically -2) to the **first atom** of X’s first residue (`prepend_first = 0`)\n",
    "  * Desired bond length `prepend_len` (1.6 Å)\n",
    "\n",
    "Example: appending “DA” to the right end of a chain whose last residue is “DC” (length 30):\n",
    "\n",
    "* `connect['DA'][0]` → `[0, -1]`\n",
    "  → bond DA atom 0 to DC atom `-1` → absolute index `30-1 = 29`.\n",
    "* length uses `connect['DA'][2]` → `1.6`.\n",
    "\n",
    "The negative indices in `connect` are resolved at polymerization time using the appropriate residue length (`residue_length[name]`).\n"
   ]
  },
  {
   "cell_type": "code",
   "execution_count": 7,
   "id": "fc9fa678-ee09-4218-a273-dd0df44707da",
   "metadata": {},
   "outputs": [
    {
     "data": {
      "text/plain": [
       "(0, 29, 1.6)"
      ]
     },
     "execution_count": 7,
     "metadata": {},
     "output_type": "execute_result"
    }
   ],
   "source": [
    "# 3) Polymerization glue points you can print / log\n",
    "dna.append_bond(\"DA\")  # -> (0, -1, 1.6)  # old index relative to previous residue\n",
    "dna.append_bond(\"DA\", prev_residue_length=30)  # -> (0, 29, 1.6)"
   ]
  },
  {
   "cell_type": "markdown",
   "id": "0e788c3d-f575-4b1b-9738-447054cc0b80",
   "metadata": {},
   "source": [
    "### C) Rotating Elements/ Torsions\n",
    "\n",
    "\n",
    "Take `dna.rotating_elements[\"DG\"]`:\n",
    "\n",
    "```python\n",
    "[[0, 3, None], [3, 4, None], [10, 12, -6], [-6, -1, None]]\n",
    "```\n",
    "\n",
    "With `len(DG)=33`, the engine could interpret as:\n",
    "\n",
    "* Axis bond(0–3), rotate atoms 3..32\n",
    "* Axis bond(3–4), rotate atoms 4..32\n",
    "* Axis bond(10–12), rotate atoms 12..27\n",
    "* Axis bond(27–32), rotate atoms 32..32 (just terminal twist), or more broadly the subgraph from 32 back to 27 depending on flood-fill direction\n",
    "\n",
    "(Exact moving-set details depend on the rotation implementation; the triple gives it the **bond** and the **span** to consider.)\n",
    "\n",
    "\n",
    "### The mental model (hinge + door)\n",
    "\n",
    "* Pick **two atoms that share a bond**: call them `i` and `j`.\n",
    "* The **axis** is the straight line through that bond (vector = `coords[j] - coords[i]`, unit-normalized).\n",
    "* You **hold the `i` side fixed** and **rotate the `j` side** (a bunch of atoms connected “downstream” of `j`) around that bond by some angle θ.\n",
    "* That whole rotating bunch moves as a rigid body around that axis—exactly like a door on a hinge.\n",
    "\n",
    "In our data, each rotation is a triple:\n",
    "\n",
    "```\n",
    "[start, bond, end_or_None]   # i, j, k  (using i=start, j=bond, k=end)\n",
    "```\n",
    "\n",
    "* The **hinge bond** is `(i—j) = (start—bond)`.\n",
    "* The **rotating side** is the subgraph of atoms reachable from `j` **without crossing** back over the hinge into `i`.\n",
    "* The optional **`end`** says “don’t rotate past this atom”; if `end` is `None`, rotate **all the way to the residue’s terminus** on that side.\n",
    "\n",
    "Negative indices (like `-1`) just mean “count from the end of this residue,” so at use-time we convert with:\n",
    "\n",
    "```\n",
    "if idx < 0: idx += residue_length\n",
    "```\n",
    "\n",
    "> Those “3..32” notations you saw were shorthand. In reality we rotate a **connected subgraph**, not a numeric range.\n",
    "\n",
    "\n",
    "\n",
    "### Why “normalization” and when\n",
    "\n",
    "* **Backbone anchors** are normalized to non-negative indices **immediately** (constructor) because later code dereferences them directly.\n",
    "* **Rotations** keep negatives **as-is** until the mover actually uses them; at that moment it knows the residue length and can resolve `-6 → 27`, etc.\n",
    "\n",
    "That’s all “normalization” means here: turning negative indices into absolute (≥0) indices.\n",
    "\n",
    "\n",
    "## Walkthrough on one residue (DG, length = 33)\n",
    "\n",
    "`dna.rotating_elements[\"DG\"] ==`\n",
    "\n",
    "```\n",
    "[\n",
    "  [0, 3, None],\n",
    "  [3, 4, None],\n",
    "  [10, 12, -6],\n",
    "  [-6, -1, None],\n",
    "]\n",
    "```\n",
    "\n",
    "1. `[0, 3, None]`\n",
    "\n",
    "   * Hinge bond: atoms `0—3` (axis along that bond).\n",
    "   * Rotating side: everything reachable from atom `3` without crossing back into atom `0`.\n",
    "   * `end=None` ⇒ rotate the **entire tail** on that side (to the residue end).\n",
    "\n",
    "2. `[3, 4, None]`\n",
    "\n",
    "   * Hinge: `3—4`\n",
    "   * Rotating side: connected subgraph from `4` outward (can include base + sugar + phosphate further along).\n",
    "   * `end=None` ⇒ again, rotate the full downstream side.\n",
    "\n",
    "3. `[10, 12, -6]`  (with `L=33`, `-6 → 27`)\n",
    "\n",
    "   * Hinge: `10—12`\n",
    "   * Rotating side: from `12` outward, **but stop at atom 27** (inclusive).\n",
    "     This defines a **local** torsion that doesn’t twist the very far tail.\n",
    "\n",
    "4. `[-6, -1, None]`  (maps to hinge `27—32`)\n",
    "\n",
    "   * Hinge: `27—32`\n",
    "   * Rotating side: from `32` outward (essentially the terminal tip).\n",
    "   * `end=None` ⇒ rotate that terminal side fully (a small end/tail twist).\n",
    "\n",
    "We can imagine these four as progressively “closer to the end” backbone torsions—first broader (big chunk rotates), then more local."
   ]
  },
  {
   "cell_type": "code",
   "execution_count": 3,
   "id": "34d8892e-9412-460a-8e30-0fd252ab4ce6",
   "metadata": {},
   "outputs": [
    {
     "data": {
      "text/plain": [
       "[[0, 3, None], [3, 4, None], [10, 12, -6], [-6, -1, None]]"
      ]
     },
     "execution_count": 3,
     "metadata": {},
     "output_type": "execute_result"
    }
   ],
   "source": [
    "dna.rotating_elements[\"DG\"]"
   ]
  },
  {
   "cell_type": "code",
   "execution_count": 8,
   "id": "5bf7fb8c-3aa7-493e-bf20-82eac9bfbc62",
   "metadata": {},
   "outputs": [
    {
     "data": {
      "text/plain": [
       "[(0, 3, None), (3, 4, None), (10, 12, 27), (27, 32, None)]"
      ]
     },
     "execution_count": 8,
     "metadata": {},
     "output_type": "execute_result"
    }
   ],
   "source": [
    "# 4) Torsions without mental math on negatives\n",
    "dna.torsions(\"DG\")\n",
    "# -> [(0,3,None), (3,4,None), (10,12,27), (27,32,None)]"
   ]
  },
  {
   "cell_type": "markdown",
   "id": "350e9f7e-bd5e-476c-8feb-bb9f24ceff4e",
   "metadata": {},
   "source": [
    "### D) Backbone anchors\n",
    "\n",
    "Example for “DG”:\n",
    "\n",
    "```python\n",
    "dna.backbone_elements['DG'] == [[0, 10, 12], [27, 32]]\n",
    "```\n",
    "\n",
    "We can read this as:\n",
    "\n",
    "* “left side of the backbone” passes through atoms 0 → 10 → 12,\n",
    "* “right side of the backbone” passes through 27 → 32.\n",
    "  Downstream code can use these anchors to compute dihedrals, place bonds, or define rigid segments during moves.\n"
   ]
  },
  {
   "cell_type": "code",
   "execution_count": 11,
   "id": "a53b4591-bef4-4c87-8f1a-7984fca963e7",
   "metadata": {},
   "outputs": [
    {
     "data": {
      "text/plain": [
       "[[0, 10, 12], [27, 32]]"
      ]
     },
     "execution_count": 11,
     "metadata": {},
     "output_type": "execute_result"
    }
   ],
   "source": [
    "dna.backbone_elements[\"DG\"]"
   ]
  },
  {
   "cell_type": "markdown",
   "id": "a8a07c30-0560-4acc-bf96-3cc3ff1fff6d",
   "metadata": {
    "jp-MarkdownHeadingCollapsed": true,
    "tags": []
   },
   "source": [
    "\n",
    "# 4) A quick “under the hood” recap against your printout\n",
    "\n",
    "* The big dict you showed is just the object’s state:\n",
    "\n",
    "  * `residue_names` — the ordered universe of residue templates.\n",
    "  * `residue_length` — atom counts for index normalization and bounds checking.\n",
    "  * `connect` — how to bond head/tail atoms and what bond length to target.\n",
    "  * `alias` — mapping to terminal/middle forms for LEaP sequences.\n",
    "  * `rotating_elements` — lists of rotatable subchains per residue (indices may be negative here).\n",
    "  * `backbone_elements` — pre-normalized, always non-negative anchor indices per residue.\n",
    "  * `init_string` — empty because no path was provided."
   ]
  },
  {
   "cell_type": "markdown",
   "id": "aa23bb04-3361-4b0d-8793-6280dfdbab74",
   "metadata": {},
   "source": [
    "# RNA.py"
   ]
  },
  {
   "cell_type": "code",
   "execution_count": 10,
   "id": "ba94af24-ee2f-4938-9c95-28beaf9b4c7f",
   "metadata": {},
   "outputs": [
    {
     "name": "stdout",
     "output_type": "stream",
     "text": [
      "{'residue_names': ['GN', 'AN', 'UN', 'CN', 'G', 'A', 'U', 'C', 'G5', 'A5', 'U5', 'C5', 'G3', 'A3', 'U3', 'C3'],\n",
      " 'residue_path': None,\n",
      " 'init_string': '',\n",
      " 'residue_length': {'GN': 33,\n",
      "                    'AN': 32,\n",
      "                    'UN': 29,\n",
      "                    'CN': 30,\n",
      "                    'G': 34,\n",
      "                    'A': 33,\n",
      "                    'U': 30,\n",
      "                    'C': 31,\n",
      "                    'G5': 32,\n",
      "                    'A5': 31,\n",
      "                    'U5': 28,\n",
      "                    'C5': 29,\n",
      "                    'G3': 35,\n",
      "                    'A3': 34,\n",
      "                    'U3': 31,\n",
      "                    'C3': 32},\n",
      " 'connect': {'GN': [[0, -1], [-2, 0], 1.6, 1.6],\n",
      "             'AN': [[0, -1], [-2, 0], 1.6, 1.6],\n",
      "             'UN': [[0, -1], [-2, 0], 1.6, 1.6],\n",
      "             'CN': [[0, -1], [-2, 0], 1.6, 1.6],\n",
      "             'G': [[0, -1], [-2, 0], 1.6, 1.6],\n",
      "             'A': [[0, -1], [-2, 0], 1.6, 1.6],\n",
      "             'U': [[0, -1], [-2, 0], 1.6, 1.6],\n",
      "             'C': [[0, -1], [-2, 0], 1.6, 1.6],\n",
      "             'G5': [[0, -1], [-2, 0], 1.6, 1.6],\n",
      "             'A5': [[0, -1], [-2, 0], 1.6, 1.6],\n",
      "             'U5': [[0, -1], [-2, 0], 1.6, 1.6],\n",
      "             'C5': [[0, -1], [-2, 0], 1.6, 1.6],\n",
      "             'G3': [[0, -1], [-2, 0], 1.6, 1.6],\n",
      "             'A3': [[0, -1], [-2, 0], 1.6, 1.6],\n",
      "             'U3': [[0, -1], [-2, 0], 1.6, 1.6],\n",
      "             'C3': [[0, -1], [-2, 0], 1.6, 1.6]},\n",
      " 'alias': {'GN': ['GN', 'G5', 'G', 'G3'],\n",
      "           'AN': ['AN', 'A5', 'A', 'A3'],\n",
      "           'UN': ['UN', 'U5', 'U', 'U3'],\n",
      "           'CN': ['CN', 'C5', 'C', 'C3'],\n",
      "           'G': ['GN', 'G5', 'G', 'G3'],\n",
      "           'A': ['AN', 'A5', 'A', 'A3'],\n",
      "           'U': ['UN', 'U5', 'U', 'U3'],\n",
      "           'C': ['CN', 'C5', 'C', 'C3'],\n",
      "           'G5': ['G5', 'G5', 'G', 'G'],\n",
      "           'A5': ['A5', 'A5', 'A', 'A'],\n",
      "           'U5': ['U5', 'U5', 'U', 'U'],\n",
      "           'C5': ['C5', 'C5', 'C', 'C'],\n",
      "           'G3': ['G3', 'G', 'G', 'G3'],\n",
      "           'A3': ['A3', 'A', 'A', 'A3'],\n",
      "           'U3': ['U3', 'U', 'U', 'U3'],\n",
      "           'C3': ['C3', 'C', 'C', 'C3']},\n",
      " 'rotating_elements': {'GN': [[0, 1, None], [1, 2, None], [8, 10, -8], [-8, -2, None]],\n",
      "                       'AN': [[0, 1, None], [1, 2, None], [8, 10, -8], [-8, -2, None]],\n",
      "                       'UN': [[0, 1, None], [1, 2, None], [8, 10, -8], [-8, -2, None]],\n",
      "                       'CN': [[0, 1, None], [1, 2, None], [8, 10, -8], [-8, -2, None]],\n",
      "                       'G': [[0, 3, None], [3, 4, None], [10, 12, -7], [-7, -1, None]],\n",
      "                       'A': [[0, 3, None], [3, 4, None], [10, 12, -7], [-7, -1, None]],\n",
      "                       'U': [[0, 3, None], [3, 4, None], [10, 12, -7], [-7, -1, None]],\n",
      "                       'C': [[0, 3, None], [3, 4, None], [10, 12, -7], [-7, -1, None]],\n",
      "                       'G5': [[0, 1, None], [1, 2, None], [8, 10, -7], [-7, -1, None]],\n",
      "                       'A5': [[0, 1, None], [1, 2, None], [8, 10, -7], [-7, -1, None]],\n",
      "                       'U5': [[0, 1, None], [1, 2, None], [8, 10, -7], [-7, -1, None]],\n",
      "                       'C5': [[0, 1, None], [1, 2, None], [8, 10, -7], [-7, -1, None]],\n",
      "                       'G3': [[0, 3, None], [3, 4, None], [10, 12, -8], [-8, -2, None]],\n",
      "                       'A3': [[0, 3, None], [3, 4, None], [10, 12, -8], [-8, -2, None]],\n",
      "                       'U3': [[0, 3, None], [3, 4, None], [10, 12, -8], [-8, -2, None]],\n",
      "                       'C3': [[0, 3, None], [3, 4, None], [10, 12, -8], [-8, -2, None]]},\n",
      " 'backbone_elements': {'GN': [[0, 8, 10], [25, 32]],\n",
      "                       'AN': [[0, 8, 10], [24, 31]],\n",
      "                       'UN': [[0, 8, 10], [21, 28]],\n",
      "                       'CN': [[0, 8, 10], [22, 29]],\n",
      "                       'G': [[0, 10, 12], [27, 33]],\n",
      "                       'A': [[0, 10, 12], [26, 32]],\n",
      "                       'U': [[0, 10, 12], [23, 29]],\n",
      "                       'C': [[0, 10, 12], [24, 30]],\n",
      "                       'G5': [[0, 8, 10], [25, 31]],\n",
      "                       'A5': [[0, 8, 10], [24, 30]],\n",
      "                       'U5': [[0, 8, 10], [21, 27]],\n",
      "                       'C5': [[0, 8, 10], [22, 28]],\n",
      "                       'G3': [[0, 10, 12], [27, 34]],\n",
      "                       'A3': [[0, 10, 12], [26, 33]],\n",
      "                       'U3': [[0, 10, 12], [23, 30]],\n",
      "                       'C3': [[0, 10, 12], [24, 31]]}}\n"
     ]
    }
   ],
   "source": [
    "pprint(vars(rna), width=120, compact=True, sort_dicts=False)"
   ]
  },
  {
   "cell_type": "code",
   "execution_count": null,
   "id": "b1c65755-14e3-49e1-8c7a-e449bac94e88",
   "metadata": {},
   "outputs": [],
   "source": []
  }
 ],
 "metadata": {
  "kernelspec": {
   "display_name": "maws",
   "language": "python",
   "name": "python3"
  },
  "language_info": {
   "codemirror_mode": {
    "name": "ipython",
    "version": 3
   },
   "file_extension": ".py",
   "mimetype": "text/x-python",
   "name": "python",
   "nbconvert_exporter": "python",
   "pygments_lexer": "ipython3",
   "version": "3.10.14"
  }
 },
 "nbformat": 4,
 "nbformat_minor": 5
}
