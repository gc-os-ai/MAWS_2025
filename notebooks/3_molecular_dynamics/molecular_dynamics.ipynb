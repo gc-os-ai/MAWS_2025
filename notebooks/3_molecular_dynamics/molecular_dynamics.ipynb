{
 "cells": [
  {
   "cell_type": "markdown",
   "metadata": {},
   "source": [
    "# Molecular Dynamics\n",
    "This Jupyter Notebook provides a step-by-step guide for performing a Molecular Dynamics (MD) simulation using GROMACS. Initially, dependencies such as GROMACS and Python libraries are installed. Subsequently, the initial molecular structure is preprocessed, solvated, and various simulation parameters are set up. Multiple stages of the MD simulation, including energy minimization, equilibration, and production MD, are then executed. Lastly, trajectory analysis is performed, including the calculation of parameters like RMSD (Root Mean Square Deviation) and gyration, offering insights into the molecular system's behavior over time. This notebook is employed as a comprehensive tool for simulating and analyzing the molecular dynamics of the specified system.\n",
    "\n",
    "## Input/Output Description\n",
    "- **Input:**\n",
    "1. A PDB file (`maws_pfoa_aptamer.pdb`) representing the initial molecular structure.\n",
    "1. GROMACS parameter and configuration files (`ions.mdp`, `minim.mdp`, `nvt.mdp`, `npt.mdp`, `md.mdp`) for different simulation stages.\n",
    "\n",
    "`ions.mdp`: parameters for simulating the addition of ions to the system to achieve a desired salt concentration.\n",
    "\n",
    "`minim.mdp`: energy minimization, which aims to minimize the energy of the system to achieve a stable starting point for simulations.\n",
    "\n",
    "`nvt.mdp`: parameters for an NVT ensemble simulation, where the number of particles, volume, and temperature of the system are held constant.\n",
    "\n",
    "`npt.mdp`: NPT ensemble simulations, where the system is equilibrated at constant temperature and pressure.\n",
    "\n",
    "`md.mdp`: main production phase of the MD simulation, specifying simulation parameters for data collection on the system's dynamics.\n",
    "\n",
    "- **Output:**\n",
    "1. Processed and solvated molecular structures in GROMACS formats.\n",
    "1. Energy, temperature, pressure, and density profiles during the simulation.\n",
    "1. Trajectory and analysis files including RMSD, gyration, and more.\n",
    "\n",
    "### REMEMBER: change the Jupyter kernel to **`Python (AptaLoop)`**. See our README file for detailed information."
   ]
  },
  {
   "cell_type": "code",
   "execution_count": null,
   "metadata": {},
   "outputs": [],
   "source": [
    "%%bash\n",
    "pip install --upgrade pip\n",
    "pip install wheel\n",
    "pip install setuptools\n",
    "pip install --upgrade setuptools wheel\n",
    "pip install --upgrade cmake pybind11\n",
    "pip install nglview\n",
    "pip install GromacsWrapper"
   ]
  },
  {
   "cell_type": "code",
   "execution_count": null,
   "metadata": {},
   "outputs": [],
   "source": [
    "import subprocess\n",
    "import matplotlib as mpl\n",
    "import matplotlib.pyplot as plt\n",
    "import numpy as np \n",
    "import gromacs \n",
    "import gromacs.formats\n",
    "import nglview as nv\n",
    "import os"
   ]
  },
  {
   "cell_type": "markdown",
   "metadata": {},
   "source": [
    "### Replace `maws_pfoa_aptamer.pdb` with the path of your file (relative to the script path) in the following cell"
   ]
  },
  {
   "cell_type": "code",
   "execution_count": null,
   "metadata": {},
   "outputs": [],
   "source": [
    "script_path = os.getcwd()\n",
    "input_file = os.path.join(script_path, \"maws_pfoa_aptamer.pdb\")"
   ]
  },
  {
   "cell_type": "markdown",
   "metadata": {},
   "source": [
    "First of all, we need to check if the file has a compatible format. We are specifically checking if the Residue Name column (4th column) of the PDB input file starts with either `D` or `R`. If it doesn't, please edit the file before continuing with the NB."
   ]
  },
  {
   "cell_type": "code",
   "execution_count": null,
   "metadata": {},
   "outputs": [],
   "source": [
    "def check_file_format(infile):\n",
    "    with open(infile, 'r') as file:\n",
    "        for line in file:\n",
    "            if line.startswith((\"TER\", \"END\", \"CONECT\")) or (\"LIG\" in line.split()[3:4]):\n",
    "                continue\n",
    "            parts = line.split()\n",
    "            if len(parts) >= 4:\n",
    "                column = parts[3]\n",
    "                if column.endswith(('A', 'T', 'G', 'C', 'U', '5', '3')) and (column.startswith('D') or column.startswith('R')):\n",
    "                    continue\n",
    "                else:\n",
    "                    return \"The file does not have the correct format. Edit the file so that the 4th column starts always with either 'D' or 'R'.\"\n",
    "    return \"The file has the correct format, you may proceed :)\"\n",
    "print(check_file_format(input_file))"
   ]
  },
  {
   "cell_type": "markdown",
   "metadata": {},
   "source": [
    "Here, the analysis using GROMACS starts. First, it removes all lines that contain 'HOH' (the PDB code for water) from the file whose path is stored in the variable `input_file`. The resulting file's content is then written to `python_aptamer.pdb`."
   ]
  },
  {
   "cell_type": "code",
   "execution_count": null,
   "metadata": {},
   "outputs": [],
   "source": [
    "!grep -v HOH $input_file > python_aptamer.pdb"
   ]
  },
  {
   "cell_type": "markdown",
   "metadata": {},
   "source": [
    "Then, converts a PDB file to a GROMACS-ready structure file (`.gro`), atom types, and topology while ignoring any hydrogen atoms that are defined in the PDB file. It uses the Amber03 force field and TIP3P water model."
   ]
  },
  {
   "cell_type": "code",
   "execution_count": null,
   "metadata": {},
   "outputs": [],
   "source": [
    "!gmx pdb2gmx -f python_aptamer.pdb -o python_aptamer_processed.gro -ignh -ff amber03 -water tip3p"
   ]
  },
  {
   "cell_type": "markdown",
   "metadata": {},
   "source": [
    "Next, edits the GROMACS structure file to define a cubic box around the molecule. The box would start 0.5nm away from the molecule in all directions."
   ]
  },
  {
   "cell_type": "code",
   "execution_count": null,
   "metadata": {},
   "outputs": [],
   "source": [
    "!gmx editconf -f python_aptamer_processed.gro -o python_newbox.gro -c -d 0.5 -bt cubic"
   ]
  },
  {
   "cell_type": "markdown",
   "metadata": {},
   "source": [
    "Solvates (i.e., adds water to) the system using a pre-equilibrated box of SPC water. Modifies the topology file `topol.top` accordingly to include the added water molecules."
   ]
  },
  {
   "cell_type": "code",
   "execution_count": null,
   "metadata": {},
   "outputs": [],
   "source": [
    "!gmx solvate -cp python_newbox.gro -cs spc216.gro -o python_solv.gro -p topol.top"
   ]
  },
  {
   "cell_type": "markdown",
   "metadata": {},
   "source": [
    "Pre-processes the system for the ion-adding stage by creating a binary run input file that contains the data needed for the next `mdrun` command."
   ]
  },
  {
   "cell_type": "code",
   "execution_count": null,
   "metadata": {},
   "outputs": [],
   "source": [
    "!gmx grompp -f ions.mdp -c python_solv.gro -p topol.top -o ions.tpr"
   ]
  },
  {
   "cell_type": "markdown",
   "metadata": {},
   "source": [
    "Adds ions to the system to make the total charge zero. Replaces water molecules by sodium and/or chloride ions, updates the topology file `topol.top` accordingly."
   ]
  },
  {
   "cell_type": "code",
   "execution_count": null,
   "metadata": {},
   "outputs": [],
   "source": [
    "!printf \"SOL\" | gmx genion -s ions.tpr -o python_solv_ions.gro -p topol.top -pname NA -nname CL -neutral"
   ]
  },
  {
   "cell_type": "markdown",
   "metadata": {},
   "source": [
    "Pre-processes the system for the energy minimization stage."
   ]
  },
  {
   "cell_type": "code",
   "execution_count": null,
   "metadata": {},
   "outputs": [],
   "source": [
    "!gmx grompp -f minim.mdp -c python_solv_ions.gro -p topol.top -o em.tpr"
   ]
  },
  {
   "cell_type": "markdown",
   "metadata": {},
   "source": [
    "Runs the energy minimization."
   ]
  },
  {
   "cell_type": "code",
   "execution_count": null,
   "metadata": {},
   "outputs": [],
   "source": [
    "!gmx mdrun -v -deffnm em"
   ]
  },
  {
   "cell_type": "markdown",
   "metadata": {},
   "source": [
    "Extracts the potential energy information from the energy file and write it to `potential.xvg`."
   ]
  },
  {
   "cell_type": "code",
   "execution_count": null,
   "metadata": {},
   "outputs": [],
   "source": [
    "!printf \"10 0\"| gmx energy -f em.edr -o potential.xvg"
   ]
  },
  {
   "cell_type": "markdown",
   "metadata": {},
   "source": [
    "Pre-processes the system for the temperature equilibration (NVT) stage."
   ]
  },
  {
   "cell_type": "code",
   "execution_count": null,
   "metadata": {},
   "outputs": [],
   "source": [
    "!gmx grompp -f nvt.mdp -c em.gro -r em.gro -p topol.top -o nvt.tpr"
   ]
  },
  {
   "cell_type": "markdown",
   "metadata": {},
   "source": [
    "Runs constant number of particles, volume, and temperature (NVT) simulation."
   ]
  },
  {
   "cell_type": "code",
   "execution_count": null,
   "metadata": {},
   "outputs": [],
   "source": [
    "!gmx mdrun -deffnm nvt"
   ]
  },
  {
   "cell_type": "markdown",
   "metadata": {},
   "source": [
    "Extracts the temperature data from the energy file and write it to `temperature.xvg`."
   ]
  },
  {
   "cell_type": "code",
   "execution_count": null,
   "metadata": {},
   "outputs": [],
   "source": [
    "!printf \"16 0\" | gmx energy -f nvt.edr -o temperature.xvg"
   ]
  },
  {
   "cell_type": "markdown",
   "metadata": {},
   "source": [
    "Pre-processes the system for the pressure equilibration (NPT) stage."
   ]
  },
  {
   "cell_type": "code",
   "execution_count": null,
   "metadata": {},
   "outputs": [],
   "source": [
    "!gmx grompp -f npt.mdp -c nvt.gro -r nvt.gro -t nvt.cpt -p topol.top -o npt.tpr"
   ]
  },
  {
   "cell_type": "markdown",
   "metadata": {},
   "source": [
    "Runs constant number of particles, pressure, and temperature (NPT) simulation."
   ]
  },
  {
   "cell_type": "code",
   "execution_count": null,
   "metadata": {},
   "outputs": [],
   "source": [
    "!gmx mdrun -deffnm npt"
   ]
  },
  {
   "cell_type": "markdown",
   "metadata": {},
   "source": [
    "Extracts the pressure data from the energy file and write it to `pressure.xvg`."
   ]
  },
  {
   "cell_type": "code",
   "execution_count": null,
   "metadata": {},
   "outputs": [],
   "source": [
    "!printf \"18 0\" | gmx energy -f npt.edr -o pressure.xvg"
   ]
  },
  {
   "cell_type": "markdown",
   "metadata": {},
   "source": [
    "Extracts the density data from the energy file and write it to `density.xvg`."
   ]
  },
  {
   "cell_type": "code",
   "execution_count": null,
   "metadata": {},
   "outputs": [],
   "source": [
    "!printf \"24 0\" | gmx energy -f npt.edr -o density.xvg"
   ]
  },
  {
   "cell_type": "markdown",
   "metadata": {},
   "source": [
    "Pre-processes the system for the production MD run stage."
   ]
  },
  {
   "cell_type": "code",
   "execution_count": null,
   "metadata": {},
   "outputs": [],
   "source": [
    "!gmx grompp -f md.mdp -c npt.gro -t npt.cpt -p topol.top -o md_python.tpr"
   ]
  },
  {
   "cell_type": "markdown",
   "metadata": {},
   "source": [
    "Runs the production molecular dynamics."
   ]
  },
  {
   "cell_type": "code",
   "execution_count": null,
   "metadata": {},
   "outputs": [],
   "source": [
    "!gmx mdrun -deffnm md_python # Use the option \"-cpi md_python.cpt\" to resume analysis"
   ]
  },
  {
   "cell_type": "markdown",
   "metadata": {},
   "source": [
    "Converting the trajectory file (`md_python.xtc`) to the one without periodic boundary conditions (`md_python_noPBC.xtc`). It's also centering the molecule in the box."
   ]
  },
  {
   "cell_type": "code",
   "execution_count": null,
   "metadata": {},
   "outputs": [],
   "source": [
    "!printf \"1 0\" | gmx trjconv -s md_python.tpr -f md_python.xtc -o md_python_noPBC.xtc -pbc mol -center"
   ]
  },
  {
   "cell_type": "markdown",
   "metadata": {},
   "source": [
    "Calculates the root mean square deviation (RMSD) of the trajectory, with respect to the structure in `md_0_1.tpr`, which is probably the initial structure but after equilibration. The output is written to `rmsd.xvg`."
   ]
  },
  {
   "cell_type": "code",
   "execution_count": null,
   "metadata": {},
   "outputs": [],
   "source": [
    "!printf \"4 0\" | gmx rms -s md_0_1.tpr -f md_python_noPBC.xtc -o rmsd.xvg -tu ns"
   ]
  },
  {
   "cell_type": "markdown",
   "metadata": {},
   "source": [
    "Calculates the RMSD of the trajectory with respect to the structure obtained after energy minimization. The output is written to `rmsd_xtal.xvg`."
   ]
  },
  {
   "cell_type": "code",
   "execution_count": null,
   "metadata": {},
   "outputs": [],
   "source": [
    "!printf \"1 0\" | gmx rms -s em.tpr -f md_python_noPBC.xtc -o rmsd_xtal.xvg -tu ns"
   ]
  },
  {
   "cell_type": "markdown",
   "metadata": {},
   "source": [
    "Finally, calculates the radius of gyration (`Rg`) of the molecule throughout the trajectory. The output is written to `gyrate.xvg`."
   ]
  },
  {
   "cell_type": "code",
   "execution_count": null,
   "metadata": {},
   "outputs": [],
   "source": [
    "!printf \"1 0\" | gmx gyrate -s md_python.tpr -f md_python_noPBC.xtc -o gyrate.xvg"
   ]
  }
 ],
 "metadata": {
  "kernelspec": {
   "display_name": "Python (AptaLoop)",
   "language": "python",
   "name": "aptaloop"
  },
  "language_info": {
   "codemirror_mode": {
    "name": "ipython",
    "version": 3
   },
   "file_extension": ".py",
   "mimetype": "text/x-python",
   "name": "python",
   "nbconvert_exporter": "python",
   "pygments_lexer": "ipython3",
   "version": "3.9.17"
  }
 },
 "nbformat": 4,
 "nbformat_minor": 2
}
